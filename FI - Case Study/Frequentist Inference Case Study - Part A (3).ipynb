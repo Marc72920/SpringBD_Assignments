{
 "cells": [
  {
   "cell_type": "markdown",
   "metadata": {},
   "source": [
    "# Frequentist Inference Case Study - Part A "
   ]
  },
  {
   "cell_type": "markdown",
   "metadata": {},
   "source": [
    "## 1. Learning objectives"
   ]
  },
  {
   "cell_type": "markdown",
   "metadata": {},
   "source": [
    "Welcome to part A of the Frequentist inference case study! The purpose of this case study is to help you apply the concepts associated with Frequentist inference in Python. Frequentist inference is the process of deriving conclusions about an underlying distribution via the observation of data. In particular, you'll practice writing Python code to apply the following statistical concepts: \n",
    "* the _z_-statistic\n",
    "* the _t_-statistic\n",
    "* the difference and relationship between the two\n",
    "* the Central Limit Theorem, including its assumptions and consequences\n",
    "* how to estimate the population mean and standard deviation from a sample\n",
    "* the concept of a sampling distribution of a test statistic, particularly for the mean\n",
    "* how to combine these concepts to calculate a confidence interval"
   ]
  },
  {
   "cell_type": "markdown",
   "metadata": {},
   "source": [
    "## Prerequisites"
   ]
  },
  {
   "cell_type": "markdown",
   "metadata": {},
   "source": [
    "To be able to complete this notebook, you are expected to have a basic understanding of:\n",
    "* what a random variable is (p.400 of Professor Spiegelhalter's *The Art of Statistics, hereinafter AoS*)\n",
    "* what a population, and a population distribution, are (p. 397 of *AoS*)\n",
    "* a high-level sense of what the normal distribution is (p. 394 of *AoS*)\n",
    "* what the t-statistic is (p. 275 of *AoS*)\n",
    "\n",
    "Happily, these should all be concepts with which you are reasonably familiar after having read ten chapters of Professor Spiegelhalter's book, *The Art of Statistics*.\n",
    "\n",
    "We'll try to relate the concepts in this case study back to page numbers in *The Art of Statistics* so that you can focus on the Python aspects of this case study. The second part (part B) of this case study will involve another, more real-world application of these tools. "
   ]
  },
  {
   "cell_type": "markdown",
   "metadata": {},
   "source": [
    "For this notebook, we will use data sampled from a known normal distribution. This allows us to compare our results with theoretical expectations."
   ]
  },
  {
   "cell_type": "markdown",
   "metadata": {},
   "source": [
    "## 2. An introduction to sampling from the normal distribution"
   ]
  },
  {
   "cell_type": "markdown",
   "metadata": {},
   "source": [
    "First, let's explore the ways we can generate the normal distribution. While there's a fair amount of interest in [sklearn](https://scikit-learn.org/stable/) within the machine learning community, you're likely to have heard of [scipy](https://docs.scipy.org/doc/scipy-0.15.1/reference/index.html) if you're coming from the sciences. For this assignment, you'll use [scipy.stats](https://docs.scipy.org/doc/scipy-0.15.1/reference/tutorial/stats.html) to complete your work. \n",
    "\n",
    "This assignment will require some digging around and getting your hands dirty (your learning is maximized that way)! You should have the research skills and the tenacity to do these tasks independently, but if you struggle, reach out to your immediate community and your mentor for help. "
   ]
  },
  {
   "cell_type": "code",
   "execution_count": 1,
   "metadata": {},
   "outputs": [],
   "source": [
    "from scipy.stats import norm\n",
    "from scipy.stats import t\n",
    "import numpy as np\n",
    "import pandas as pd\n",
    "from numpy.random import seed\n",
    "import matplotlib.pyplot as plt"
   ]
  },
  {
   "cell_type": "code",
   "execution_count": 2,
   "metadata": {},
   "outputs": [
    {
     "name": "stdout",
     "output_type": "stream",
     "text": [
      "A normal continuous random variable.\n",
      "\n",
      "    The location (``loc``) keyword specifies the mean.\n",
      "    The scale (``scale``) keyword specifies the standard deviation.\n",
      "\n",
      "    As an instance of the `rv_continuous` class, `norm` object inherits from it\n",
      "    a collection of generic methods (see below for the full list),\n",
      "    and completes them with details specific for this particular distribution.\n",
      "    \n",
      "    Methods\n",
      "    -------\n",
      "    rvs(loc=0, scale=1, size=1, random_state=None)\n",
      "        Random variates.\n",
      "    pdf(x, loc=0, scale=1)\n",
      "        Probability density function.\n",
      "    logpdf(x, loc=0, scale=1)\n",
      "        Log of the probability density function.\n",
      "    cdf(x, loc=0, scale=1)\n",
      "        Cumulative distribution function.\n",
      "    logcdf(x, loc=0, scale=1)\n",
      "        Log of the cumulative distribution function.\n",
      "    sf(x, loc=0, scale=1)\n",
      "        Survival function  (also defined as ``1 - cdf``, but `sf` is sometimes more accurate).\n",
      "    logsf(x, loc=0, scale=1)\n",
      "        Log of the survival function.\n",
      "    ppf(q, loc=0, scale=1)\n",
      "        Percent point function (inverse of ``cdf`` --- percentiles).\n",
      "    isf(q, loc=0, scale=1)\n",
      "        Inverse survival function (inverse of ``sf``).\n",
      "    moment(n, loc=0, scale=1)\n",
      "        Non-central moment of order n\n",
      "    stats(loc=0, scale=1, moments='mv')\n",
      "        Mean('m'), variance('v'), skew('s'), and/or kurtosis('k').\n",
      "    entropy(loc=0, scale=1)\n",
      "        (Differential) entropy of the RV.\n",
      "    fit(data)\n",
      "        Parameter estimates for generic data.\n",
      "        See `scipy.stats.rv_continuous.fit <https://docs.scipy.org/doc/scipy/reference/generated/scipy.stats.rv_continuous.fit.html#scipy.stats.rv_continuous.fit>`__ for detailed documentation of the\n",
      "        keyword arguments.\n",
      "    expect(func, args=(), loc=0, scale=1, lb=None, ub=None, conditional=False, **kwds)\n",
      "        Expected value of a function (of one argument) with respect to the distribution.\n",
      "    median(loc=0, scale=1)\n",
      "        Median of the distribution.\n",
      "    mean(loc=0, scale=1)\n",
      "        Mean of the distribution.\n",
      "    var(loc=0, scale=1)\n",
      "        Variance of the distribution.\n",
      "    std(loc=0, scale=1)\n",
      "        Standard deviation of the distribution.\n",
      "    interval(alpha, loc=0, scale=1)\n",
      "        Endpoints of the range that contains alpha percent of the distribution\n",
      "\n",
      "    Notes\n",
      "    -----\n",
      "    The probability density function for `norm` is:\n",
      "\n",
      "    .. math::\n",
      "\n",
      "        f(x) = \\frac{\\exp(-x^2/2)}{\\sqrt{2\\pi}}\n",
      "\n",
      "    for a real number :math:`x`.\n",
      "\n",
      "    The probability density above is defined in the \"standardized\" form. To shift\n",
      "    and/or scale the distribution use the ``loc`` and ``scale`` parameters.\n",
      "    Specifically, ``norm.pdf(x, loc, scale)`` is identically\n",
      "    equivalent to ``norm.pdf(y) / scale`` with\n",
      "    ``y = (x - loc) / scale``.\n",
      "\n",
      "    Examples\n",
      "    --------\n",
      "    >>> from scipy.stats import norm\n",
      "    >>> import matplotlib.pyplot as plt\n",
      "    >>> fig, ax = plt.subplots(1, 1)\n",
      "    \n",
      "    Calculate a few first moments:\n",
      "    \n",
      "    \n",
      "    >>> mean, var, skew, kurt = norm.stats(moments='mvsk')\n",
      "    \n",
      "    Display the probability density function (``pdf``):\n",
      "    \n",
      "    >>> x = np.linspace(norm.ppf(0.01),\n",
      "    ...                 norm.ppf(0.99), 100)\n",
      "    >>> ax.plot(x, norm.pdf(x),\n",
      "    ...        'r-', lw=5, alpha=0.6, label='norm pdf')\n",
      "    \n",
      "    Alternatively, the distribution object can be called (as a function)\n",
      "    to fix the shape, location and scale parameters. This returns a \"frozen\"\n",
      "    RV object holding the given parameters fixed.\n",
      "    \n",
      "    Freeze the distribution and display the frozen ``pdf``:\n",
      "    \n",
      "    >>> rv = norm()\n",
      "    >>> ax.plot(x, rv.pdf(x), 'k-', lw=2, label='frozen pdf')\n",
      "    \n",
      "    Check accuracy of ``cdf`` and ``ppf``:\n",
      "    \n",
      "    >>> vals = norm.ppf([0.001, 0.5, 0.999])\n",
      "    >>> np.allclose([0.001, 0.5, 0.999], norm.cdf(vals))\n",
      "    True\n",
      "    \n",
      "    Generate random numbers:\n",
      "    \n",
      "    >>> r = norm.rvs(size=1000)\n",
      "    \n",
      "    And compare the histogram:\n",
      "    \n",
      "    >>> ax.hist(r, density=True, histtype='stepfilled', alpha=0.2)\n",
      "    >>> ax.legend(loc='best', frameon=False)\n",
      "    >>> plt.show()\n",
      "    \n",
      "\n",
      "    \n"
     ]
    }
   ],
   "source": [
    "import scipy.stats as stats\n",
    "\n",
    "#Get help by printing the distribution docstring as follows:\n",
    "print(stats.norm.__doc__) "
   ]
  },
  {
   "cell_type": "markdown",
   "metadata": {},
   "source": [
    "__Q1:__ Call up the documentation for the `norm` function imported above. (Hint: that documentation is [here](https://docs.scipy.org/doc/scipy/reference/generated/scipy.stats.norm.html)). What is the second listed method?"
   ]
  },
  {
   "cell_type": "markdown",
   "metadata": {},
   "source": [
    "__A:__ Second listed method is given as: print(stats.t.__doc__)"
   ]
  },
  {
   "cell_type": "markdown",
   "metadata": {},
   "source": [
    "__Q2:__ Use the method that generates random variates to draw five samples from the standard normal distribution. "
   ]
  },
  {
   "cell_type": "markdown",
   "metadata": {},
   "source": [
    "__A:__ Let n_sample = 5, Seed(47) enables the same values to be randomly selected"
   ]
  },
  {
   "cell_type": "code",
   "execution_count": 3,
   "metadata": {},
   "outputs": [
    {
     "data": {
      "text/plain": [
       "array([-0.84800948,  1.30590636,  0.92420797,  0.6404118 , -1.05473698])"
      ]
     },
     "execution_count": 3,
     "metadata": {},
     "output_type": "execute_result"
    }
   ],
   "source": [
    "seed(47)\n",
    "# draw five samples here\n",
    "n_sample = 5\n",
    "rvs = norm.rvs(size = n_sample)\n",
    "rvs"
   ]
  },
  {
   "cell_type": "markdown",
   "metadata": {},
   "source": [
    "__Q3:__ What is the mean of this sample? Is it exactly equal to the value you expected? Hint: the sample was drawn from the standard normal distribution. If you want a reminder of the properties of this distribution, check out p. 85 of *AoS*. "
   ]
  },
  {
   "cell_type": "markdown",
   "metadata": {},
   "source": [
    "__A:__\n",
    "The mean of the \"rvs\" is almost the same as the expected mean value of 0.193555934 but quite different from population mean. The np.mean() gives 0.19355593334131074"
   ]
  },
  {
   "cell_type": "code",
   "execution_count": 4,
   "metadata": {},
   "outputs": [
    {
     "name": "stdout",
     "output_type": "stream",
     "text": [
      "0.19355593334131074\n"
     ]
    }
   ],
   "source": [
    "# Calculate and print the mean here, hint: use np.mean()\n",
    "cal_mean = np.mean(rvs)\n",
    "print(cal_mean)"
   ]
  },
  {
   "cell_type": "markdown",
   "metadata": {},
   "source": [
    "__Q4:__ What is the standard deviation of these numbers? Calculate this manually here as $\\sqrt{\\frac{\\sum_i(x_i - \\bar{x})^2}{n}}$ (This is just the definition of **standard deviation** given by Professor Spiegelhalter on p.403 of *AoS*). Hint: np.sqrt() and np.sum() will be useful here and remember that numPy supports [broadcasting](https://docs.scipy.org/doc/numpy/user/basics.broadcasting.html)."
   ]
  },
  {
   "cell_type": "markdown",
   "metadata": {},
   "source": [
    "__A:__\n",
    "Manual calculation of the five randomly selected numbers shows to have a standard deviation of 0.9606195654 whiich appears to be the same as the NumPy standard deviation of 0.9606195639478641 shown below "
   ]
  },
  {
   "cell_type": "code",
   "execution_count": 5,
   "metadata": {},
   "outputs": [
    {
     "data": {
      "text/plain": [
       "0.9606195639478641"
      ]
     },
     "execution_count": 5,
     "metadata": {},
     "output_type": "execute_result"
    }
   ],
   "source": [
    "xx_std = np.std(rvs)\n",
    "xx_std"
   ]
  },
  {
   "cell_type": "markdown",
   "metadata": {},
   "source": [
    "Here we have calculated the actual standard deviation of a small data set (of size 5). But in this case, this small data set is actually a sample from our larger (infinite) population. In this case, the population is infinite because we could keep drawing our normal random variates until our computers die! \n",
    "\n",
    "In general, the sample mean we calculate will not be equal to the population mean (as we saw above). A consequence of this is that the sum of squares of the deviations from the _population_ mean will be bigger than the sum of squares of the deviations from the _sample_ mean. In other words, the sum of squares of the deviations from the _sample_ mean is too small to give an unbiased estimate of the _population_ variance. An example of this effect is given [here](https://en.wikipedia.org/wiki/Bessel%27s_correction#Source_of_bias). Scaling our estimate of the variance by the factor $n/(n-1)$ gives an unbiased estimator of the population variance. This factor is known as [Bessel's correction](https://en.wikipedia.org/wiki/Bessel%27s_correction). The consequence of this is that the $n$ in the denominator is replaced by $n-1$.\n",
    "\n",
    "You can see Bessel's correction reflected in Professor Spiegelhalter's definition of **variance** on p. 405 of *AoS*.\n",
    "\n",
    "__Q5:__ If all we had to go on was our five samples, what would be our best estimate of the population standard deviation? Use Bessel's correction ($n-1$ in the denominator), thus $\\sqrt{\\frac{\\sum_i(x_i - \\bar{x})^2}{n-1}}$."
   ]
  },
  {
   "cell_type": "markdown",
   "metadata": {},
   "source": [
    "__A:__\n",
    "Manual calculation using denominator (n-1) shows a standard deviation of 1.0740053244"
   ]
  },
  {
   "cell_type": "code",
   "execution_count": 6,
   "metadata": {},
   "outputs": [
    {
     "data": {
      "text/plain": [
       "1.0740053227518152"
      ]
     },
     "execution_count": 6,
     "metadata": {},
     "output_type": "execute_result"
    }
   ],
   "source": [
    "xx_bstd = np.std(rvs, ddof = 1)\n",
    "xx_bstd"
   ]
  },
  {
   "cell_type": "markdown",
   "metadata": {},
   "source": [
    "__Q6:__ Now use numpy's std function to calculate the standard deviation of our random samples. Which of the above standard deviations did it return?"
   ]
  },
  {
   "cell_type": "markdown",
   "metadata": {},
   "source": [
    "__A:__ The returned numpy's standard deviation is the one that has its denominator as n instead of the Bessel's correction"
   ]
  },
  {
   "cell_type": "code",
   "execution_count": 7,
   "metadata": {},
   "outputs": [
    {
     "data": {
      "text/plain": [
       "0.9606195639478641"
      ]
     },
     "execution_count": 7,
     "metadata": {},
     "output_type": "execute_result"
    }
   ],
   "source": [
    "np.std(rvs)"
   ]
  },
  {
   "cell_type": "markdown",
   "metadata": {},
   "source": [
    "__Q7:__ Consult the documentation for np.std() to see how to apply the correction for estimating the population parameter and verify this produces the expected result."
   ]
  },
  {
   "cell_type": "markdown",
   "metadata": {},
   "source": [
    "__A:__ Typically degree of freedom at default gives the standard deviation with denominator n which reprsensts the standard deviation for a sample or list of numbers. The Bessel's correction in which the denominator is (n-1) takes the degree of freedom to be 1 ie ddof = 1 which is for sequence of numbers representing the estimate of the population."
   ]
  },
  {
   "cell_type": "code",
   "execution_count": 8,
   "metadata": {},
   "outputs": [
    {
     "data": {
      "text/plain": [
       "0.9606195639478641"
      ]
     },
     "execution_count": 8,
     "metadata": {},
     "output_type": "execute_result"
    }
   ],
   "source": [
    "np.std(rvs) # ddof = 0 by default"
   ]
  },
  {
   "cell_type": "code",
   "execution_count": 9,
   "metadata": {},
   "outputs": [
    {
     "data": {
      "text/plain": [
       "1.0740053227518152"
      ]
     },
     "execution_count": 9,
     "metadata": {},
     "output_type": "execute_result"
    }
   ],
   "source": [
    "np.std(rvs, ddof = 1) # degree of freedom to estimate population parameter."
   ]
  },
  {
   "cell_type": "markdown",
   "metadata": {},
   "source": [
    "### Summary of section"
   ]
  },
  {
   "cell_type": "markdown",
   "metadata": {},
   "source": [
    "In this section, you've been introduced to the scipy.stats package and used it to draw a small sample from the standard normal distribution. You've calculated the average (the mean) of this sample and seen that this is not exactly equal to the expected population parameter (which we know because we're generating the random variates from a specific, known distribution). You've been introduced to two ways of calculating the standard deviation; one uses $n$ in the denominator and the other uses $n-1$ (Bessel's correction). You've also seen which of these calculations np.std() performs by default and how to get it to generate the other."
   ]
  },
  {
   "cell_type": "markdown",
   "metadata": {},
   "source": [
    "You use $n$ as the denominator if you want to calculate the standard deviation of a sequence of numbers. You use $n-1$ if you are using this sequence of numbers to estimate the population parameter. This brings us to some terminology that can be a little confusing.\n",
    "\n",
    "The population parameter is traditionally written as $\\sigma$ and the sample statistic as $s$. Rather unhelpfully, $s$ is also called the sample standard deviation (using $n-1$) whereas the standard deviation of the sample uses $n$. That's right, we have the sample standard deviation and the standard deviation of the sample and they're not the same thing!\n",
    "\n",
    "The sample standard deviation\n",
    "\\begin{equation}\n",
    "s = \\sqrt{\\frac{\\sum_i(x_i - \\bar{x})^2}{n-1}} \\approx \\sigma,\n",
    "\\end{equation}\n",
    "is our best (unbiased) estimate of the population parameter ($\\sigma$).\n",
    "\n",
    "If your dataset _is_ your entire population, you simply want to calculate the population parameter, $\\sigma$, via\n",
    "\\begin{equation}\n",
    "\\sigma = \\sqrt{\\frac{\\sum_i(x_i - \\bar{x})^2}{n}}\n",
    "\\end{equation}\n",
    "as you have complete, full knowledge of your population. In other words, your sample _is_ your population. It's worth noting that we're dealing with what Professor Spiegehalter describes on p. 92 of *AoS* as a **metaphorical population**: we have all the data, and we act as if the data-point is taken from a population at random. We can think of this population as an imaginary space of possibilities. \n",
    "\n",
    "If, however, you have sampled _from_ your population, you only have partial knowledge of the state of your population. In this case, the standard deviation of your sample is not an unbiased estimate of the standard deviation of the population, in which case you seek to estimate that population parameter via the sample standard deviation, which uses the $n-1$ denominator."
   ]
  },
  {
   "cell_type": "markdown",
   "metadata": {},
   "source": [
    "Great work so far! Now let's dive deeper."
   ]
  },
  {
   "cell_type": "markdown",
   "metadata": {},
   "source": [
    "## 3. Sampling distributions"
   ]
  },
  {
   "cell_type": "markdown",
   "metadata": {},
   "source": [
    "So far we've been dealing with the concept of taking a sample from a population to infer the population parameters. One statistic we calculated for a sample was the mean. As our samples will be expected to vary from one draw to another, so will our sample statistics. If we were to perform repeat draws of size $n$ and calculate the mean of each, we would expect to obtain a distribution of values. This is the sampling distribution of the mean. **The Central Limit Theorem (CLT)** tells us that such a distribution will approach a normal distribution as $n$ increases (the intuitions behind the CLT are covered in full on p. 236 of *AoS*). For the sampling distribution of the mean, the standard deviation of this distribution is given by\n",
    "\n",
    "\\begin{equation}\n",
    "\\sigma_{mean} = \\frac{\\sigma}{\\sqrt n}\n",
    "\\end{equation}\n",
    "\n",
    "where $\\sigma_{mean}$ is the standard deviation of the sampling distribution of the mean and $\\sigma$ is the standard deviation of the population (the population parameter)."
   ]
  },
  {
   "cell_type": "markdown",
   "metadata": {},
   "source": [
    "This is important because typically we are dealing with samples from populations and all we know about the population is what we see in the sample. From this sample, we want to make inferences about the population. We may do this, for example, by looking at the histogram of the values and by calculating the mean and standard deviation (as estimates of the population parameters), and so we are intrinsically interested in how these quantities vary across samples. \n",
    "\n",
    "In other words, now that we've taken one sample of size $n$ and made some claims about the general population, what if we were to take another sample of size $n$? Would we get the same result? Would we make the same claims about the general population? This brings us to a fundamental question: _when we make some inference about a population based on our sample, how confident can we be that we've got it 'right'?_\n",
    "\n",
    "We need to think about **estimates and confidence intervals**: those concepts covered in Chapter 7, p. 189, of *AoS*."
   ]
  },
  {
   "cell_type": "markdown",
   "metadata": {},
   "source": [
    "Now, the standard normal distribution (with its variance equal to its standard deviation of one) would not be a great illustration of a key point. Instead, let's imagine we live in a town of 50,000 people and we know the height of everyone in this town. We will have 50,000 numbers that tell us everything about our population. We'll simulate these numbers now and put ourselves in one particular town, called 'town 47', where the population mean height is 172 cm and population standard deviation is 5 cm."
   ]
  },
  {
   "cell_type": "code",
   "execution_count": 10,
   "metadata": {},
   "outputs": [],
   "source": [
    "seed(47)\n",
    "pop_heights = norm.rvs(172, 5, size=50000)"
   ]
  },
  {
   "cell_type": "code",
   "execution_count": 11,
   "metadata": {},
   "outputs": [
    {
     "data": {
      "image/png": "[encoded data removed]",
      "text/plain": [
       "<Figure size 432x288 with 1 Axes>"
      ]
     },
     "metadata": {
      "needs_background": "light"
     },
     "output_type": "display_data"
    }
   ],
   "source": [
    "_ = plt.hist(pop_heights, bins=30)\n",
    "_ = plt.xlabel('height (cm)')\n",
    "_ = plt.ylabel('number of people')\n",
    "_ = plt.title('Distribution of heights in entire town population')\n",
    "_ = plt.axvline(172, color='r')\n",
    "_ = plt.axvline(172+5, color='r', linestyle='--')\n",
    "_ = plt.axvline(172-5, color='r', linestyle='--')\n",
    "_ = plt.axvline(172+10, color='r', linestyle='-.')\n",
    "_ = plt.axvline(172-10, color='r', linestyle='-.')"
   ]
  },
  {
   "cell_type": "markdown",
   "metadata": {},
   "source": [
    "Now, 50,000 people is rather a lot to chase after with a tape measure. If all you want to know is the average height of the townsfolk, then can you just go out and measure a sample to get a pretty good estimate of the average height?"
   ]
  },
  {
   "cell_type": "code",
   "execution_count": 12,
   "metadata": {},
   "outputs": [],
   "source": [
    "def townsfolk_sampler(n):\n",
    "    return np.random.choice(pop_heights, n)"
   ]
  },
  {
   "cell_type": "markdown",
   "metadata": {},
   "source": [
    "Let's say you go out one day and randomly sample 10 people to measure."
   ]
  },
  {
   "cell_type": "code",
   "execution_count": 13,
   "metadata": {},
   "outputs": [],
   "source": [
    "seed(47)\n",
    "daily_sample1 = townsfolk_sampler(10)"
   ]
  },
  {
   "cell_type": "code",
   "execution_count": 14,
   "metadata": {},
   "outputs": [
    {
     "data": {
      "image/png": "[encoded data removed]",
      "text/plain": [
       "<Figure size 432x288 with 1 Axes>"
      ]
     },
     "metadata": {
      "needs_background": "light"
     },
     "output_type": "display_data"
    }
   ],
   "source": [
    "_ = plt.hist(daily_sample1, bins=10)\n",
    "_ = plt.xlabel('height (cm)')\n",
    "_ = plt.ylabel('number of people')\n",
    "_ = plt.title('Distribution of heights in sample size 10')"
   ]
  },
  {
   "cell_type": "markdown",
   "metadata": {},
   "source": [
    "The sample distribution doesn't resemble what we take the population distribution to be. What do we get for the mean?"
   ]
  },
  {
   "cell_type": "code",
   "execution_count": 15,
   "metadata": {},
   "outputs": [
    {
     "data": {
      "text/plain": [
       "173.47911444163503"
      ]
     },
     "execution_count": 15,
     "metadata": {},
     "output_type": "execute_result"
    }
   ],
   "source": [
    "np.mean(daily_sample1)"
   ]
  },
  {
   "cell_type": "markdown",
   "metadata": {},
   "source": [
    "And if we went out and repeated this experiment?"
   ]
  },
  {
   "cell_type": "code",
   "execution_count": 16,
   "metadata": {},
   "outputs": [],
   "source": [
    "daily_sample2 = townsfolk_sampler(10)"
   ]
  },
  {
   "cell_type": "code",
   "execution_count": 17,
   "metadata": {},
   "outputs": [
    {
     "data": {
      "text/plain": [
       "173.7317666636263"
      ]
     },
     "execution_count": 17,
     "metadata": {},
     "output_type": "execute_result"
    }
   ],
   "source": [
    "np.mean(daily_sample2)"
   ]
  },
  {
   "cell_type": "markdown",
   "metadata": {},
   "source": [
    "__Q8:__ Simulate performing this random trial every day for a year, calculating the mean of each daily sample of 10, and plot the resultant sampling distribution of the mean."
   ]
  },
  {
   "cell_type": "markdown",
   "metadata": {},
   "source": [
    "__A:__"
   ]
  },
  {
   "cell_type": "code",
   "execution_count": 18,
   "metadata": {},
   "outputs": [],
   "source": [
    "seed(47)\n",
    "daily_pop_heights = norm.rvs(172, 5, size = 10)"
   ]
  },
  {
   "cell_type": "code",
   "execution_count": 19,
   "metadata": {
    "scrolled": true
   },
   "outputs": [
    {
     "name": "stdout",
     "output_type": "stream",
     "text": [
      "[172.84462801541173, 171.3013806869571, 170.03001510244377, 169.4148360721534, 171.8808510371281, 171.55867161057193, 172.4082041704618, 174.6879086679018, 172.85096999895953, 172.7324762340466, 173.33147480459547, 173.09521213057116, 172.6888211627499, 172.29267221697393, 173.12482893150352, 172.4939171937597, 174.62514621362584, 169.45950643623928, 172.96200584492433, 170.97810008142855, 169.04559198927734, 174.22421513783323, 171.6539189780737, 171.3440072707736, 173.3832467848461, 170.6703738856009, 170.92462254432783, 168.87405464499292, 171.7754953496011, 172.3972137999891, 173.8167063207056, 174.0590935853457, 173.384428667952, 173.24005660863094, 171.19706135271377, 174.19330464761066, 172.69929589493614, 173.50263111224675, 172.89246621413693, 171.22524454080002, 172.5323969817917, 173.83493974341098, 170.4579392264635, 173.52249034591608, 173.23720780669942, 172.78337060491756, 171.64642068456828, 172.5214802940305, 171.34846109493267, 172.2037153062535, 173.10839012406478, 170.37683298684942, 170.1084581704828, 171.61050837091585, 172.0352557967084, 170.12848505266138, 172.91170508175261, 173.7440802566645, 172.5668464112732, 171.6092048117509, 173.15124989119226, 170.4438027043715, 168.36442343402516, 169.5253135696543, 170.97419832143652, 174.16113093707324, 172.5238194551906, 173.16134741512064, 171.2100290299944, 173.41876946056934, 171.5375238119888, 172.26299926055083, 174.1858428678242, 171.6109730022582, 170.95001248298382, 171.60462097822403, 171.1417008005627, 175.7870109783831, 173.02206609079516, 173.77605386176083, 171.47428766102348, 169.42675864485508, 170.56693750757233, 172.71470474669553, 171.52225154706002, 173.7157564410715, 173.96459294540384, 172.2794864663495, 173.04868410846117, 173.23154766956773, 170.53708257355916, 170.472532628964, 172.06432859434463, 171.5097613803867, 174.18607841714297, 172.56442167035772, 171.76314882826793, 174.4515149759809, 169.7622512475255, 172.25511581235145, 169.50618792847996, 176.6077121850587, 172.19316632010538, 172.58578180704035, 170.65822618158742, 171.0129426399898, 173.4532007808583, 170.3198277781512, 171.74776138296954, 172.2719736791259, 173.90460381435628, 172.57739897801133, 169.16069694431326, 172.34172560719443, 173.68941516535975, 173.31741943411137, 169.76652514666847, 171.707699989907, 171.06958698087385, 170.31610874288714, 172.5434305951487, 170.26166592832777, 173.0154781363441, 170.40985097894918, 171.91332587861973, 171.98037525519047, 172.3887509894804, 172.94544093631688, 172.66078780640038, 173.01058207192062, 172.98264156219835, 174.87021127096477, 171.35097245169177, 174.17466572516213, 170.2243797706512, 174.13865749960047, 172.75747925189506, 175.67734613843274, 171.38211172978166, 172.9560741946821, 175.4728879497092, 172.97164760702304, 172.67888063392732, 173.30929078347998, 172.4605582983124, 172.37561436704098, 172.42082743479662, 170.17382358101824, 169.65979531894317, 171.30954267353354, 174.1166573253885, 174.08183391707738, 176.09773235251538, 171.91567663762322, 172.63345657302673, 173.11038291304868, 169.9476991207352, 170.37411477317238, 171.56005057651464, 171.63513123476557, 172.00924660666564, 171.0964746001427, 173.06480116291547, 173.53156341065983, 170.54711559748063, 171.37825413489387, 171.64272780170523, 174.22271854136676, 173.69027216444277, 171.62274454067577, 172.01008009295754, 172.21868026123488, 173.47727182747997, 172.851643525622, 170.2176476034636, 174.61953556086604, 172.9164129167753, 174.14548540871021, 169.962039378503, 173.89247749598638, 173.64823619120602, 168.14669167727007, 172.56083928395296, 174.64939794914676, 172.53771686556044, 172.50276610437282, 170.7889874557456, 172.1489766640529, 170.78211405031544, 174.17056726457184, 171.5481957312998, 172.31500853281204, 173.23691793386104, 169.95181842113453, 173.41209902528638, 171.9678198874621, 170.70211302052203, 172.6524317053602, 171.64616998237543, 169.2229483793695, 171.48053672787853, 174.37763670281356, 171.46107503137063, 175.0091039797798, 172.87285378169818, 170.8998580360332, 171.47899398048534, 166.9662689865974, 172.73474614046376, 172.69971682956904, 173.5217461336352, 172.66898148350893, 173.61577688579695, 170.05609500154398, 173.00588956124506, 168.96065647786978, 171.16498069532486, 170.22246490891501, 170.9493165194773, 172.0705669509777, 171.02829919031723, 172.9120189133784, 170.77721112817966, 171.47206327312128, 170.642856913564, 173.63358004810613, 171.91308520176847, 168.98433594335606, 173.73533549396626, 172.48433797937912, 170.7922809671447, 171.94718738957047, 168.8874072602637, 172.1962171768436, 171.60010867830823, 170.19870433208962, 172.39324927271676, 172.55289220124376, 171.88742509179977, 171.76603031026445, 169.70891128729005, 170.91983500972816, 172.80305513780027, 169.96907804336647, 172.42208353116962, 173.51000844198862, 170.26331021935613, 170.59809401482147, 172.92533529953022, 168.9622866120644, 173.7836224806326, 174.51425340724128, 170.5858754715784, 168.50695270089446, 171.41330919507976, 170.99884411858085, 170.08012138673422, 172.688145099295, 172.55192530200398, 173.09661606034766, 173.18914731664813, 168.33389828795865, 173.77793096870002, 170.46205548380755, 171.5426870826329, 170.56689418297762, 170.68715029573582, 169.1880968418854, 170.16097347388762, 172.93077874802577, 172.52458797160665, 172.4906345307026, 173.44487479189763, 171.43405464118382, 170.6546535065604, 171.76961755655364, 171.57498405713295, 172.11517820935165, 172.267428879623, 169.3404675205166, 172.3663063755246, 174.01324245938832, 172.06315537143172, 170.84479807231457, 170.15615111215178, 172.58296170409224, 169.69959552902398, 170.11888748460288, 171.01030555527797, 170.65550938546866, 176.4681418256053, 171.92375263163754, 171.79165482674833, 172.18221471155599, 171.09083901606255, 172.37631353568554, 172.65562943458306, 176.31044087677887, 171.2490690712056, 171.78963743772994, 171.67435289364553, 170.7370694719918, 170.84467685231203, 171.75988141435533, 169.65604676065814, 171.8997522751487, 170.24049867322083, 173.07636496407196, 171.0146772417859, 172.53339631314006, 173.29361998206133, 170.30457502592648, 169.02213161420164, 170.62803162779034, 170.1559144477491, 171.52744204397183, 171.03743814330556, 171.23931429009446, 169.98649674821232, 172.98826314196887, 170.89305937726323, 169.02417940641985, 173.35986786465122, 172.51463177259683, 171.05831523874298, 168.88216026335908, 170.38709987674497, 172.9572694069969, 173.8958635605962, 172.1735309640342, 174.60649473042074, 171.17472337756686, 169.9171100825958, 169.43897744753897, 171.27885012122053, 171.21007134190177, 171.62755785451623, 171.76070802178344, 170.7906182276392, 168.97096242149067, 173.50430965190873, 174.34912897740531, 172.23146223146006, 172.3647855183864, 172.47681836799092, 170.17037173516061, 175.27410915862828, 171.23646057627906, 172.34907543574263, 173.36827151369744, 171.8862065009323, 172.61117722433954, 173.34570968816425, 170.6796306057804, 169.3582848408411, 173.60250941683898, 168.86542402416663, 169.08590777032373, 172.7825513518513, 171.95661119676566, 174.52581293691645, 171.68131792375868, 170.02753175691356, 173.96599211024994, 172.53526559329603]\n"
     ]
    }
   ],
   "source": [
    "seed(47)\n",
    "# take your samples here\n",
    "n = 10\n",
    "yr_mean = []\n",
    "def townfolk_sampler(n):\n",
    "    for i in range(365):\n",
    "        daily_pop_heights = norm.rvs(172, 5, size = n)\n",
    "        yr_mean.append(np.mean(daily_pop_heights))\n",
    "    return yr_mean\n",
    "print(townfolk_sampler(n))"
   ]
  },
  {
   "cell_type": "code",
   "execution_count": 20,
   "metadata": {},
   "outputs": [
    {
     "data": {
      "image/png": "[encoded data removed]",
      "text/plain": [
       "<Figure size 432x288 with 1 Axes>"
      ]
     },
     "metadata": {
      "needs_background": "light"
     },
     "output_type": "display_data"
    }
   ],
   "source": [
    "_ = plt.hist(yr_mean, bins=20)\n",
    "_ = plt.xlabel('daily mean of sample height')\n",
    "_ = plt.ylabel('Number of people')\n",
    "_ = plt.title('Distribution of mean heights in sample size 10')"
   ]
  },
  {
   "cell_type": "markdown",
   "metadata": {},
   "source": [
    "The above is the distribution of the means of samples of size 10 taken from our population. The Central Limit Theorem tells us the expected mean of this distribution will be equal to the population mean, and standard deviation will be $\\sigma / \\sqrt n$, which, in this case, should be approximately 1.58."
   ]
  },
  {
   "cell_type": "markdown",
   "metadata": {},
   "source": [
    "__Q9:__ Verify the above results from the CLT."
   ]
  },
  {
   "cell_type": "markdown",
   "metadata": {},
   "source": [
    "__A:__"
   ]
  },
  {
   "cell_type": "code",
   "execution_count": 21,
   "metadata": {},
   "outputs": [
    {
     "data": {
      "text/plain": [
       "[<matplotlib.lines.Line2D at 0x145abe21fd0>]"
      ]
     },
     "execution_count": 21,
     "metadata": {},
     "output_type": "execute_result"
    },
    {
     "data": {
      "image/png": "[encoded data removed]",
      "text/plain": [
       "<Figure size 432x288 with 1 Axes>"
      ]
     },
     "metadata": {
      "needs_background": "light"
     },
     "output_type": "display_data"
    }
   ],
   "source": [
    "import random \n",
    "import scipy\n",
    "from scipy.stats import norm\n",
    "samples = [np.mean(random.choices(yr_mean, k = 100)) for _ in range(300)]\n",
    "_, bins, _ = plt.hist(samples, 14, density = 1, alpha = 0.5)\n",
    "mu, sigma = scipy.stats.norm.fit(samples)\n",
    "bfl = scipy.stats.norm.pdf(bins, mu, sigma)\n",
    "plt.plot(bins, bfl)"
   ]
  },
  {
   "cell_type": "code",
   "execution_count": 22,
   "metadata": {},
   "outputs": [
    {
     "name": "stdout",
     "output_type": "stream",
     "text": [
      "171.9307361338279 0.2883565094575654\n"
     ]
    }
   ],
   "source": [
    "mu, sigma = scipy.stats.norm.fit(bins)\n",
    "print(mu, sigma)"
   ]
  },
  {
   "cell_type": "markdown",
   "metadata": {},
   "source": [
    "Remember, in this instance, we knew our population parameters, that the average height really is 172 cm and the standard deviation is 5 cm, and we see some of our daily estimates of the population mean were as low as around 168 and some as high as 176."
   ]
  },
  {
   "cell_type": "markdown",
   "metadata": {},
   "source": [
    "__Q10:__ Repeat the above year's worth of samples but for a sample size of 50 (perhaps you had a bigger budget for conducting surveys that year)! Would you expect your distribution of sample means to be wider (more variable) or narrower (more consistent)? Compare your resultant summary statistics to those predicted by the CLT."
   ]
  },
  {
   "cell_type": "markdown",
   "metadata": {},
   "source": [
    "__A:__"
   ]
  },
  {
   "cell_type": "code",
   "execution_count": 23,
   "metadata": {
    "scrolled": true
   },
   "outputs": [
    {
     "name": "stdout",
     "output_type": "stream",
     "text": [
      "[171.09434218281885, 172.84764613638836, 172.9066018492788, 172.1037351539955, 171.9301960321608, 170.9283520449024, 173.1394693070696, 172.9025884819461, 172.71699482085634, 172.10068959694053, 171.44788908980428, 172.19206432282053, 170.49179758413592, 172.89501925958965, 172.1094702851212, 173.06629054194514, 171.1409880214413, 173.24801352617075, 171.7539567188795, 172.15929050689672, 172.31021488445435, 171.76114125221895, 172.334768101847, 171.23546805888952, 171.62875030347786, 172.59718741186177, 172.72057415613364, 173.38233376287837, 173.37865305449043, 171.18792067506652, 173.76907136112624, 171.3254757236473, 172.04984027557282, 172.51134343661687, 172.1550646621516, 173.1071901521682, 172.30857639342724, 172.07868230781176, 172.09280792887876, 171.23829659501786, 173.0402412447081, 170.95591679462973, 172.57369781314603, 170.67359711051293, 171.36648988371212, 172.1501349333152, 171.08464029442612, 171.75966024162287, 171.1645926018709, 171.25180691755216, 171.7608026510853, 171.88313039339238, 171.46114382794946, 170.70677870850247, 172.10976108839023, 171.4135352446356, 171.8887306781622, 170.81345193169315, 172.69132060232195, 172.8762180711966, 170.93440547859257, 171.75293789347347, 170.68085453954575, 171.35579087351064, 171.37001073193477, 171.6591848143463, 171.2832311518686, 170.87198357346628, 172.98530094943033, 172.4796576839016, 171.57620177201147, 171.25860075198926, 172.54718406422694, 172.10560216225437, 171.53114459762216, 172.83300639085016, 173.20627554288652, 171.2316769143754, 172.8474396942271, 172.0046604222526, 172.14424928648606, 171.13731227098862, 172.87470951621907, 171.54754658277795, 171.78133358538832, 171.3514914287623, 173.0326082896778, 172.01520880978333, 170.76502285622675, 172.42392051167826, 171.96734326622, 172.1306323184091, 171.63126765667042, 172.14034453117026, 171.763562901972, 171.59821282201557, 172.5844555218638, 171.63996698500137, 173.08559119067348, 172.5847417458925, 173.29121804462284, 171.92833028904275, 170.10048576639437, 171.011533254992, 171.86092733900972, 172.53395897033926, 170.96389163817523, 172.98564751455746, 172.71292917418543, 171.01577960676207, 172.62074282702005, 173.18882869757775, 172.06849669522992, 172.2759014212145, 172.2847778312155, 172.1227681585384, 171.97369041444043, 172.1031711726159, 172.44208227584707, 171.3207720363141, 171.79119540276184, 171.5401674660579, 172.24212910235346, 171.6299520452857, 172.90407318518572, 171.48991835816847, 173.07092922391803, 172.2269291998359, 171.6072128984706, 172.34770446633425, 171.9336902669655, 173.0805532823801, 170.98447595556206, 171.49424552614204, 172.5893180949019, 171.5129121116444, 171.4649534431159, 172.78747234487003, 171.48882757993206, 172.1707809496936, 171.14307482109766, 171.90113664052535, 171.48908761734788, 172.0757432221734, 171.31825012492442, 172.45477793622481, 171.38223638470026, 170.68140141734702, 173.38729778289195, 171.6491775425983, 173.09516517900906, 170.79598611166787, 171.65471444137987, 171.5642640755279, 171.84199200186012, 171.15403453079117, 172.30916700481922, 173.02009186685248, 171.45904558855057, 171.31431460796307, 170.73589226859235, 173.87243294347934, 172.24526115343934, 172.0714216214811, 170.9001202455653, 171.8676746071261, 171.6801866227895, 173.08203079956428, 171.99584130583455, 171.8448126929035, 171.562532700823, 172.62315438428962, 171.36716025117263, 172.6048883859342, 171.7292943813788, 172.69384727872125, 172.24709803683135, 171.77047894518535, 172.1402221057846, 171.2762400332983, 172.78051600557828, 173.3648257537686, 172.53695681066657, 171.62880564386202, 171.8085581048348, 171.79049056230667, 173.0771203159701, 171.65122899942153, 171.15527040515727, 171.2627355369241, 172.46957296288224, 171.84501710133466, 173.90364560517867, 173.24037193653257, 173.93008435116454, 172.1806912013652, 171.09264677154715, 172.36657007169677, 173.19254328240748, 171.83329387120335, 172.50495647598422, 172.2234558703312, 171.63904644071192, 172.346307150182, 171.8620866665706, 171.0098672411975, 170.69070602636737, 171.23073759850286, 171.68782168163253, 172.67902180026402, 172.15634288909504, 171.16049279551163, 173.21125264953324, 170.7373848714107, 171.4483632151636, 172.15061539905815, 173.2791072557811, 170.4906369075058, 172.28125827930734, 171.77180443322462, 172.65642948694898, 171.5668992410927, 172.25263321343698, 171.80826409918905, 171.74019109675248, 172.1283037000584, 171.7195869697799, 172.8487514388116, 172.39280046604546, 171.60403568845106, 171.3761125716875, 170.75050492221482, 171.6515581802392, 172.33869272716677, 172.9587845508894, 171.20978980623877, 173.73471802832847, 173.34628857633578, 172.52491946139932, 171.07179233627107, 171.1636611437541, 172.6435260509109, 172.02194166947365, 171.7462671478062, 171.3679473567111, 170.4380142284763, 172.61807081076992, 171.05997019376122, 171.98122464141036, 172.1166758953951, 171.78572613932988, 172.23316815986865, 171.442899190343, 172.49814348898428, 173.5794675671585, 173.67188180596557, 173.27170504317553, 172.93790763340306, 172.7397588728837, 171.5846666170045, 172.49880540228796, 171.17464119061304, 171.8314103074338, 171.4799442755718, 171.83844186374424, 171.6983744602216, 172.16437137205784, 171.93710467031343, 171.18442214566173, 173.23916947303613, 171.22750297722303, 172.18988690553667, 170.98265481888896, 171.02626010961293, 172.4497742635275, 172.83657663546586, 169.9666899920244, 172.87527880666906, 172.184062515472, 171.8268318573971, 172.38899827884154, 172.66726008938224, 171.96234033884113, 171.94101520798318, 171.08003767083875, 171.4790186759813, 171.2804687100536, 173.39718698322528, 172.9620571587598, 173.19505443389622, 171.9784013017523, 171.92291070547213, 171.13977755254152, 171.2829836839944, 170.8379270920225, 171.99693513277592, 172.44299980709505, 170.8824602584447, 171.08345266966842, 171.5899364978205, 172.85493000950333, 172.77169727396674, 171.72533515220755, 171.62354562750704, 172.9304735973313, 172.4405546876416, 172.1127934107801, 171.7344063829974, 173.6445380640863, 172.30289700613122, 172.92877339689377, 172.95666776372155, 172.87552564712146, 171.47347889674117, 171.98087615430077, 171.4423107560008, 171.41341205243828, 169.92985740464547, 172.44655212783874, 171.30600908106533, 171.8697866414673, 173.39234601168985, 172.21157350145862, 171.46922604417017, 171.48646209679436, 171.27562079441915, 171.60217505717682, 170.86735157496523, 171.37443859697964, 172.59299588560995, 171.95869411455482, 171.92153760385682, 172.0222389044525, 171.84287489877192, 172.58331526869554, 173.1180887180973, 172.76692128977433, 170.52561863567374, 171.25986429060288, 172.76119193196857, 172.7346235359191, 171.92085912529902, 172.50939066426784, 171.48668247289697, 171.88131834492302, 172.52773290719415, 172.02310454331482, 172.23637537122332, 172.0319768711814, 173.0148781063014, 172.0437608014048, 171.91726906213466, 172.00574072669392, 173.20257893951242, 172.85226894947485, 172.64380197919755, 171.7343662122251, 171.12897535524243, 172.02285633320167, 171.38106805078007, 171.80836636411317, 171.8705150128864, 171.11699827960797, 172.0802600919561, 173.02508554717656]\n"
     ]
    }
   ],
   "source": [
    "seed(47)\n",
    "# calculate daily means from the larger sample size here\n",
    "n = 50\n",
    "yr_meanB = []\n",
    "def townfolk_sampler(n):\n",
    "    for i in range(365):\n",
    "        daily_pop_heights = norm.rvs(172, 5, size = n)\n",
    "        yr_meanB.append(np.mean(daily_pop_heights))\n",
    "    return yr_meanB\n",
    "print(townfolk_sampler(n))"
   ]
  },
  {
   "cell_type": "code",
   "execution_count": 24,
   "metadata": {},
   "outputs": [
    {
     "data": {
      "image/png": "[encoded data removed]",
      "text/plain": [
       "<Figure size 432x288 with 1 Axes>"
      ]
     },
     "metadata": {
      "needs_background": "light"
     },
     "output_type": "display_data"
    }
   ],
   "source": [
    "_ = plt.hist(yr_meanB, 20)\n",
    "_ = plt.xlabel('daily mean of sample height')\n",
    "_ = plt.ylabel('Number of people')\n",
    "_ = plt.title('Distribution of mean heights in sample size 50')\n",
    "plt.show()"
   ]
  },
  {
   "cell_type": "code",
   "execution_count": 25,
   "metadata": {},
   "outputs": [
    {
     "data": {
      "text/plain": [
       "[<matplotlib.lines.Line2D at 0x145abf409d0>]"
      ]
     },
     "execution_count": 25,
     "metadata": {},
     "output_type": "execute_result"
    },
    {
     "data": {
      "image/png": "[encoded data removed]",
      "text/plain": [
       "<Figure size 432x288 with 1 Axes>"
      ]
     },
     "metadata": {
      "needs_background": "light"
     },
     "output_type": "display_data"
    }
   ],
   "source": [
    "import random \n",
    "import scipy\n",
    "from scipy.stats import norm\n",
    "samplesQ = [np.mean(random.choices(yr_meanB, k = 100)) for _ in range(500)]\n",
    "_, bins, _ = plt.hist(samplesQ, 14, density = 1, alpha = 0.5)\n",
    "mu, sigma = scipy.stats.norm.fit(samplesQ)\n",
    "bfl = scipy.stats.norm.pdf(bins, mu, sigma)\n",
    "plt.plot(bins, bfl)"
   ]
  },
  {
   "cell_type": "code",
   "execution_count": 26,
   "metadata": {},
   "outputs": [
    {
     "name": "stdout",
     "output_type": "stream",
     "text": [
      "                0\n",
      "count  365.000000\n",
      "mean   171.955202\n",
      "std      1.590022\n",
      "min    166.966269\n",
      "25%    170.844677\n",
      "50%    172.010080\n",
      "75%    173.005890\n",
      "max    176.607712\n"
     ]
    }
   ],
   "source": [
    "df_yr_mean_describe = pd.DataFrame(yr_mean)\n",
    "df_samplesQ_describe = pd.DataFrame(samplesQ)\n",
    "print(df_yr_mean_describe.describe())"
   ]
  },
  {
   "cell_type": "markdown",
   "metadata": {},
   "source": [
    "What we've seen so far, then, is that we can estimate population parameters from a sample from the population, and that samples have their own distributions. Furthermore, the larger the sample size, the narrower are those sampling distributions."
   ]
  },
  {
   "cell_type": "markdown",
   "metadata": {},
   "source": [
    "### Normally testing time!"
   ]
  },
  {
   "cell_type": "markdown",
   "metadata": {},
   "source": [
    "All of the above is well and good. We've been sampling from a population we know is normally distributed, we've come to understand when to use $n$ and when to use $n-1$ in the denominator to calculate the spread of a distribution, and we've  seen the Central Limit Theorem in action for a sampling distribution. All seems very well behaved in Frequentist land. But, well, why should we really care?"
   ]
  },
  {
   "cell_type": "markdown",
   "metadata": {},
   "source": [
    "Remember, we rarely (if ever) actually know our population parameters but we still have to estimate them somehow. If we want to make inferences to conclusions like \"this observation is unusual\" or \"my population mean has changed\" then we need to have some idea of what the underlying distribution is so we can calculate relevant probabilities. In frequentist inference, we use the formulae above to deduce these population parameters. Take a moment in the next part of this assignment to refresh your understanding of how these probabilities work."
   ]
  },
  {
   "cell_type": "markdown",
   "metadata": {},
   "source": [
    "Recall some basic properties of the standard normal distribution, such as that about 68% of observations are within plus or minus 1 standard deviation of the mean. Check out the precise definition of a normal distribution on p. 394 of *AoS*. \n",
    "\n",
    "__Q11:__ Using this fact, calculate the probability of observing the value 1 or less in a single observation from the standard normal distribution. Hint: you may find it helpful to sketch the standard normal distribution (the familiar bell shape) and mark the number of standard deviations from the mean on the x-axis and shade the regions of the curve that contain certain percentages of the population."
   ]
  },
  {
   "attachments": {
    "image.png": {
     "image/png": "[encoded data removed]"
    }
   },
   "cell_type": "markdown",
   "metadata": {},
   "source": [
    "__A:__![image.png](attachment:image.png)"
   ]
  },
  {
   "cell_type": "code",
   "execution_count": 27,
   "metadata": {},
   "outputs": [
    {
     "name": "stdout",
     "output_type": "stream",
     "text": [
      "9.845326870981554e-249\n"
     ]
    }
   ],
   "source": [
    "c_upper = norm(loc = 170, scale = 5).cdf(1)\n",
    "c_lower = norm(loc =170, scale = 5).cdf(0.05)\n",
    "prob = (c_upper - c_lower)*100\n",
    "print(prob)"
   ]
  },
  {
   "cell_type": "markdown",
   "metadata": {},
   "source": [
    "Calculating this probability involved calculating the area under the curve from the value of 1 and below. To put it in mathematical terms, we need to *integrate* the probability density function. We could just add together the known areas of chunks (from -Inf to 0 and then 0 to $+\\sigma$ in the example above). One way to do this is to look up tables (literally). Fortunately, scipy has this functionality built in with the cdf() function."
   ]
  },
  {
   "cell_type": "markdown",
   "metadata": {},
   "source": [
    "__Q12:__ Use the cdf() function to answer the question above again and verify you get the same answer."
   ]
  },
  {
   "cell_type": "markdown",
   "metadata": {},
   "source": [
    "__A:__"
   ]
  },
  {
   "cell_type": "code",
   "execution_count": 28,
   "metadata": {},
   "outputs": [
    {
     "name": "stdout",
     "output_type": "stream",
     "text": [
      "2.6258697925416023e-05\n"
     ]
    }
   ],
   "source": [
    "c_upper_limit = norm(loc = 5, scale = 1).cdf(1)\n",
    "c_lower_limit = norm(loc = 5, scale = 1).cdf(0.6)\n",
    "prob = c_upper_limit -c_lower_limit\n",
    "print(prob)"
   ]
  },
  {
   "cell_type": "markdown",
   "metadata": {},
   "source": [
    "__Q13:__ Using our knowledge of the population parameters for our townsfolks' heights, what is the probability of selecting one person at random and their height being 177 cm or less? Calculate this using both of the approaches given above."
   ]
  },
  {
   "cell_type": "markdown",
   "metadata": {},
   "source": [
    "__A:__ c_height_prob = norm(loc = 170, scale = 5).cdf(177)*100. This will give 91.92 % based on the population mean of 177, and population standard deviation of 5"
   ]
  },
  {
   "cell_type": "code",
   "execution_count": 29,
   "metadata": {},
   "outputs": [
    {
     "data": {
      "text/plain": [
       "91.9243340766229"
      ]
     },
     "execution_count": 29,
     "metadata": {},
     "output_type": "execute_result"
    }
   ],
   "source": [
    "c_height_prob = norm(loc = 170, scale = 5).cdf(177)*100\n",
    "c_height_prob"
   ]
  },
  {
   "cell_type": "markdown",
   "metadata": {},
   "source": [
    "__Q14:__ Turning this question around — suppose we randomly pick one person and measure their height and find they are 2.00 m tall. How surprised should we be at this result, given what we know about the population distribution? In other words, how likely would it be to obtain a value at least as extreme as this? Express this as a probability. "
   ]
  },
  {
   "cell_type": "markdown",
   "metadata": {},
   "source": [
    "__A:__ convert the 2.0 m to cm which would be 200cm. Appying the population parameters to the cdf we would be able tp calculate the probability as norm(loc = 170, scale = 5).cdf(200). Almost 100 %."
   ]
  },
  {
   "cell_type": "code",
   "execution_count": 30,
   "metadata": {},
   "outputs": [
    {
     "data": {
      "text/plain": [
       "99.99999990134123"
      ]
     },
     "execution_count": 30,
     "metadata": {},
     "output_type": "execute_result"
    }
   ],
   "source": [
    "prob_2m = norm(loc = 170, scale = 5).cdf(200)*100\n",
    "prob_2m"
   ]
  },
  {
   "cell_type": "markdown",
   "metadata": {},
   "source": [
    "What we've just done is calculate the ***p-value*** of the observation of someone 2.00m tall (review *p*-values if you need to on p. 399 of *AoS*). We could calculate this probability by virtue of knowing the population parameters. We were then able to use the known properties of the relevant normal distribution to calculate the probability of observing a value at least as extreme as our test value."
   ]
  },
  {
   "cell_type": "markdown",
   "metadata": {},
   "source": [
    "We're about to come to a pinch, though. We've said a couple of times that we rarely, if ever, know the true population parameters; we have to estimate them from our sample and we cannot even begin to estimate the standard deviation from a single observation. \n",
    "\n",
    "This is very true and usually we have sample sizes larger than one. This means we can calculate the mean of the sample as our best estimate of the population mean and the standard deviation as our best estimate of the population standard deviation. \n",
    "\n",
    "In other words, we are now coming to deal with the sampling distributions we mentioned above as we are generally concerned with the properties of the sample means we obtain. \n",
    "\n",
    "Above, we highlighted one result from the CLT, whereby the sampling distribution (of the mean) becomes narrower and narrower with the square root of the sample size. We remind ourselves that another result from the CLT is that _even if the underlying population distribution is not normal, the sampling distribution will tend to become normal with sufficiently large sample size_. (**Check out p. 199 of AoS if you need to revise this**). This is the key driver for us 'requiring' a certain sample size, for example you may frequently see a minimum sample size of 30 stated in many places. In reality this is simply a rule of thumb; if the underlying distribution is approximately normal then your sampling distribution will already be pretty normal, but if the underlying distribution is heavily skewed then you'd want to increase your sample size."
   ]
  },
  {
   "cell_type": "markdown",
   "metadata": {},
   "source": [
    "__Q15:__ Let's now start from the position of knowing nothing about the heights of people in our town.\n",
    "* Use the random seed of 47, to randomly sample the heights of 50 townsfolk\n",
    "* Estimate the population mean using np.mean\n",
    "* Estimate the population standard deviation using np.std (remember which denominator to use!)\n",
    "* Calculate the (95%) [margin of error](https://www.statisticshowto.datasciencecentral.com/probability-and-statistics/hypothesis-testing/margin-of-error/#WhatMofE) (use the exact critial z value to 2 decimal places - [look this up](https://www.statisticshowto.datasciencecentral.com/probability-and-statistics/find-critical-values/) or use norm.ppf()) Recall that the ***margin of error*** is mentioned on p. 189 of the *AoS* and discussed in depth in that chapter). \n",
    "* Calculate the 95% Confidence Interval of the mean (***confidence intervals*** are defined on p. 385 of *AoS*) \n",
    "* Does this interval include the true population mean?"
   ]
  },
  {
   "cell_type": "markdown",
   "metadata": {},
   "source": [
    "__A:__The calculated confidence interval includes the the population mean as the range is (169.54897885122858, 170.0887580218989). As shown in the normal distribution curve the Margin of Error was calculated to be 47.12 giving the estimate of 169.99 +_47.12 (122.87 and 217.11) as seen in the shaded area of the curve."
   ]
  },
  {
   "cell_type": "code",
   "execution_count": 31,
   "metadata": {},
   "outputs": [
    {
     "name": "stdout",
     "output_type": "stream",
     "text": [
      "random heights of 50 townflks: [169.15199052 171.30590636 170.92420797 170.6404118  168.94526302\n",
      " 171.79776072 168.98721325 170.82362332 169.70534965 169.40752943\n",
      " 168.60627294 171.10417967 169.06765971 169.05684356 170.43660623\n",
      " 170.79495827 170.71953315 170.08766226 168.67725159 170.05179398\n",
      " 168.16520474 170.32749647 170.47623723 170.16842865 169.13758867\n",
      " 170.9074445  170.42288937 167.78757105 168.34579426 170.32137526\n",
      " 169.53732565 168.91924979 169.68622586 168.98214811 170.4994227\n",
      " 169.97005376 170.0470901  168.82914124 168.08747271 170.27154222\n",
      " 170.3220653  168.86899984 170.15786114 169.07960244 169.25409012\n",
      " 169.79578691 171.96638482 170.82334611 168.94251602 170.55104937]\n",
      "mean height of the townfolk: 169.81886843656375\n",
      "standard deviation of townfolk heights: 0.9736952182154633\n"
     ]
    }
   ],
   "source": [
    "seed(47)\n",
    "# take your sample now\n",
    "import random\n",
    "\n",
    "townfolk_height = norm.rvs(170, size = 50)\n",
    "townfolk_height_mean = np.mean(townfolk_height)\n",
    "townfolk_height_std = np.std(townfolk_height, ddof = 1)\n",
    "print(f'random heights of 50 townflks: {townfolk_height}')\n",
    "print(f'mean height of the townfolk: {townfolk_height_mean}')\n",
    "print(f'standard deviation of townfolk heights: {townfolk_height_std}')"
   ]
  },
  {
   "cell_type": "code",
   "execution_count": 32,
   "metadata": {},
   "outputs": [
    {
     "name": "stdout",
     "output_type": "stream",
     "text": [
      "47.071\n"
     ]
    }
   ],
   "source": [
    "# Calculating the Margin of Error using 95% confidence interval\n",
    "from numpy import sqrt\n",
    "n= 50\n",
    "x1 = np.sqrt(n)\n",
    "moe = round((1.96*np.mean(townfolk_height)/x1),3)\n",
    "print(moe)"
   ]
  },
  {
   "cell_type": "code",
   "execution_count": 33,
   "metadata": {},
   "outputs": [
    {
     "name": "stdout",
     "output_type": "stream",
     "text": [
      "95% Confidence Interval of the mean: (169.54897885122858, 170.0887580218989)\n"
     ]
    }
   ],
   "source": [
    "#Calculate the 95% Confidence Interval of mean\n",
    "cim_95_percent = stats.norm.interval(alpha = 0.95, loc = np.mean(townfolk_height), scale = stats.sem(townfolk_height))\n",
    "print(f'95% Confidence Interval of the mean: {cim_95_percent}')"
   ]
  },
  {
   "cell_type": "code",
   "execution_count": 34,
   "metadata": {},
   "outputs": [
    {
     "data": {
      "image/png": "[encoded data removed]",
      "text/plain": [
       "<Figure size 432x288 with 1 Axes>"
      ]
     },
     "metadata": {
      "needs_background": "light"
     },
     "output_type": "display_data"
    }
   ],
   "source": [
    "mean = 170\n",
    "std = 40\n",
    "ndist = np.arange(0, 340, 0.1)\n",
    "iq = stats.norm(mean, std)\n",
    "pdf = norm.pdf(ndist, loc = 170, scale = 40)\n",
    "_ = plt.plot(ndist, pdf, color = 'b')\n",
    "_ = plt.xlabel('Heights')\n",
    "_ = plt.ylabel('Probability Density')\n",
    "px = np.arange(122.87, 217.11, 5)\n",
    "plt.fill_between(px, iq.pdf(px), color = 'y')\n",
    "_ = plt.axvline(x = 170, color = 'b', ymax = 0.95, label = 'axvline - full height')\n",
    "_ = plt.axvline(x = 122.87, color = 'r', label = 'axvline - full height')\n",
    "_ = plt.axvline(x = 217.11, color = 'r', label = 'axvline - full height')\n",
    "\n",
    "plt.show()"
   ]
  },
  {
   "cell_type": "code",
   "execution_count": null,
   "metadata": {},
   "outputs": [],
   "source": []
  },
  {
   "cell_type": "markdown",
   "metadata": {},
   "source": [
    "__Q16:__ Above, we calculated the confidence interval using the critical z value. What is the problem with this? What requirement, or requirements, are we (strictly) failing?"
   ]
  },
  {
   "cell_type": "markdown",
   "metadata": {},
   "source": [
    "__A:__ Depending on the sample when to use test statistics, and the test statistics according to the decision rule shows under what circumstances to reject a null hypothesis."
   ]
  },
  {
   "cell_type": "markdown",
   "metadata": {},
   "source": [
    "__Q17:__ Calculate the 95% confidence interval for the mean using the _t_ distribution. Is this wider or narrower than that based on the normal distribution above? If you're unsure, you may find this [resource](https://www.statisticshowto.datasciencecentral.com/probability-and-statistics/confidence-interval/) useful. For calculating the critical value, remember how you could calculate this for the normal distribution using norm.ppf()."
   ]
  },
  {
   "cell_type": "markdown",
   "metadata": {},
   "source": [
    "__A:__ Z- score for 95% is 1.96; in this case the sample size is greater that 30(and we are using 50)"
   ]
  },
  {
   "cell_type": "code",
   "execution_count": 35,
   "metadata": {},
   "outputs": [
    {
     "name": "stdout",
     "output_type": "stream",
     "text": [
      "3.9134275929327487\n"
     ]
    }
   ],
   "source": [
    "n = 50\n",
    "lower_cutoff = t.ppf(0.025, n - 1, loc = 169.99, scale = np.std(townfolk_height, ddof = 1))\n",
    "upper_cutoff = t.ppf(0.975, n - 1, loc = 169.99, scale = np.std(townfolk_height, ddof = 1))\n",
    "p_=(upper_cutoff - lower_cutoff)\n",
    "print(p_)"
   ]
  },
  {
   "cell_type": "code",
   "execution_count": 36,
   "metadata": {},
   "outputs": [
    {
     "data": {
      "text/plain": [
       "1.6448536269514722"
      ]
     },
     "execution_count": 36,
     "metadata": {},
     "output_type": "execute_result"
    }
   ],
   "source": [
    "#To calculate the norm.ppf which is the crical value for normal distribution for 95% confidence Interval\n",
    "\n",
    "from scipy.special import ndtri\n",
    "inverse_ppf = ndtri(0.95)\n",
    "inverse_ppf"
   ]
  },
  {
   "cell_type": "code",
   "execution_count": 37,
   "metadata": {},
   "outputs": [
    {
     "name": "stdout",
     "output_type": "stream",
     "text": [
      "165.74551438929882\n",
      "4.073354047264928 335.5643828258626\n"
     ]
    }
   ],
   "source": [
    "# To obtain the Interval value for ppf\n",
    "ppf_95 = norm.ppf(0.95, loc= 169.9967, scale= stats.sem(townfolk_height))\n",
    "\n",
    "interval_value = ppf_95* np.std(townfolk_height, ddof = 1)\n",
    "print(interval_value)\n",
    "lower_95 = np.mean(townfolk_height) - interval_value\n",
    "upper_95 = np.mean(townfolk_height) + interval_value\n",
    "\n",
    "print(lower_95, upper_95)"
   ]
  },
  {
   "cell_type": "markdown",
   "metadata": {},
   "source": [
    "This is slightly wider than the previous confidence interval. This reflects the greater uncertainty given that we are estimating population parameters from a sample."
   ]
  },
  {
   "cell_type": "markdown",
   "metadata": {},
   "source": [
    "## 4. Learning outcomes"
   ]
  },
  {
   "cell_type": "markdown",
   "metadata": {},
   "source": [
    "Having completed this project notebook, you now have hands-on experience:\n",
    "* sampling and calculating probabilities from a normal distribution\n",
    "* identifying the correct way to estimate the standard deviation of a population (the population parameter) from a sample\n",
    "* with sampling distribution and now know how the Central Limit Theorem applies\n",
    "* with how to calculate critical values and confidence intervals"
   ]
  },
  {
   "cell_type": "code",
   "execution_count": null,
   "metadata": {},
   "outputs": [],
   "source": []
  }
 ],
 "metadata": {
  "kernelspec": {
   "display_name": "Python 3",
   "language": "python",
   "name": "python3"
  },
  "language_info": {
   "codemirror_mode": {
    "name": "ipython",
    "version": 3
   },
   "file_extension": ".py",
   "mimetype": "text/x-python",
   "name": "python",
   "nbconvert_exporter": "python",
   "pygments_lexer": "ipython3",
   "version": "3.8.5"
  }
 },
 "nbformat": 4,
 "nbformat_minor": 2
}
